{
 "metadata": {
  "language_info": {
   "codemirror_mode": {
    "name": "ipython",
    "version": 3
   },
   "file_extension": ".py",
   "mimetype": "text/x-python",
   "name": "python",
   "nbconvert_exporter": "python",
   "pygments_lexer": "ipython3",
   "version": "3.8.5-final"
  },
  "orig_nbformat": 2,
  "kernelspec": {
   "name": "python3",
   "display_name": "Python 3.8.5 64-bit ('deeplearning': conda)",
   "metadata": {
    "interpreter": {
     "hash": "658ab8ee377f2a571d387b46197b8e840a005dba9ab325148b13bd7f9c3101a9"
    }
   }
  }
 },
 "nbformat": 4,
 "nbformat_minor": 2,
 "cells": [
  {
   "cell_type": "code",
   "execution_count": null,
   "metadata": {},
   "outputs": [],
   "source": [
    "import mlflow \n",
    "import mlflow.tensorflow\n",
    "import mlflow.keras\n",
    "import tensorflow as tf \n",
    "import keras\n",
    "from tensorflow.keras.datasets import cifar10 \n",
    "import matplotlib.pyplot as plt\n"
   ]
  },
  {
   "cell_type": "code",
   "execution_count": null,
   "metadata": {},
   "outputs": [],
   "source": [
    "# Loading the dataset\n",
    "classes = ['airplane','automobile','bird','cat','deer','dog','frog','horse','ship','truck']\n",
    "(x_train, y_train), (x_test, y_test) = cifar10.load_data()"
   ]
  },
  {
   "cell_type": "code",
   "execution_count": null,
   "metadata": {},
   "outputs": [],
   "source": [
    "x_train.shape\n",
    "x_test.shape\n",
    "y_train.shape\n",
    "y_test.shape\n",
    "\n"
   ]
  },
  {
   "cell_type": "code",
   "execution_count": null,
   "metadata": {},
   "outputs": [],
   "source": [
    "# Normalizing the images\n",
    "x_train = x_train / 255.0\n",
    "x_test = x_test / 255.0"
   ]
  },
  {
   "cell_type": "code",
   "execution_count": null,
   "metadata": {},
   "outputs": [],
   "source": [
    "plt.imshow(x_train[1])\n",
    "print(classes[y_train[1,0]])"
   ]
  },
  {
   "cell_type": "code",
   "execution_count": 47,
   "metadata": {},
   "outputs": [],
   "source": [
    "mlflow.keras.autolog()"
   ]
  },
  {
   "cell_type": "code",
   "execution_count": 53,
   "metadata": {},
   "outputs": [],
   "source": [
    "# Builiding a CNN model \n",
    "\n",
    "def run_model(params):\n",
    "\n",
    "    with mlflow.start_run(run_name =\"Monitoring CNN model training\") as run:  \n",
    "        cnn_model_2 = keras.models.Sequential([\n",
    "                keras.layers.Conv2D(32, kernel_size = params['conv_size'], activation='relu', input_shape=(32,32,3)),\n",
    "                keras.layers.MaxPool2D(pool_size=(2, 2)),\n",
    "\n",
    "                keras.layers.Conv2D(filters=64,kernel_size = params['conv_size'],padding=\"same\", activation=\"relu\"),\n",
    "                keras.layers.MaxPool2D(pool_size=(2, 2)),\n",
    "\n",
    "                keras.layers.Conv2D(128, kernel_size = params['conv_size'], activation='relu'),\n",
    "                keras.layers.MaxPool2D(pool_size=(2, 2)),\n",
    "\n",
    "                keras.layers.Flatten(),\n",
    "\n",
    "                keras.layers.Dense(256, activation='relu'),\n",
    "                keras.layers.Dense(128, activation='relu'),\n",
    "                keras.layers.Dense(10, activation='softmax')    \n",
    "                ])\n",
    "\n",
    "        # Complie the model\n",
    "        cnn_model_2 .compile(optimizer =\"Adam\", loss=\"sparse_categorical_crossentropy\", metrics =\"sparse_categorical_accuracy\")\n",
    "        # Fit the model\n",
    "        model = cnn_model_2.fit(x_train, y_train, validation_data = (x_test, y_test), epochs = params['epochs'])\n",
    "        return (run.info.experiment_id, run.info.run_id)\n",
    "        \n"
   ]
  },
  {
   "cell_type": "code",
   "execution_count": 54,
   "metadata": {},
   "outputs": [
    {
     "output_type": "stream",
     "name": "stderr",
     "text": [
      "2021/01/17 16:02:44 INFO mlflow.utils.autologging_utils: keras autologging will track hyperparameters, performance metrics, model artifacts, and lineage information for the current keras workflow to the MLflow run with ID 'b123d50bd9294325bfde094c645a2ff5'\n",
      "Epoch 1/3\n",
      "1563/1563 [==============================] - 34s 22ms/step - loss: 1.5231 - sparse_categorical_accuracy: 0.4398 - val_loss: 1.3560 - val_sparse_categorical_accuracy: 0.5101\n",
      "Epoch 2/3\n",
      "1563/1563 [==============================] - 38s 24ms/step - loss: 1.1214 - sparse_categorical_accuracy: 0.6017 - val_loss: 1.0328 - val_sparse_categorical_accuracy: 0.6378\n",
      "Epoch 3/3\n",
      "1563/1563 [==============================] - 37s 24ms/step - loss: 0.9522 - sparse_categorical_accuracy: 0.6654 - val_loss: 0.9843 - val_sparse_categorical_accuracy: 0.6562\n",
      "2021/01/17 16:04:36 INFO mlflow.utils.autologging_utils: keras autologging will track hyperparameters, performance metrics, model artifacts, and lineage information for the current keras workflow to the MLflow run with ID 'cf11b276ee314cb197b6dd05978c9e8f'\n",
      "Epoch 1/2\n",
      "1563/1563 [==============================] - 29s 19ms/step - loss: 1.4316 - sparse_categorical_accuracy: 0.4764 - val_loss: 1.1285 - val_sparse_categorical_accuracy: 0.5970\n",
      "Epoch 2/2\n",
      "1563/1563 [==============================] - 29s 19ms/step - loss: 1.0149 - sparse_categorical_accuracy: 0.6393 - val_loss: 0.9670 - val_sparse_categorical_accuracy: 0.6604\n"
     ]
    }
   ],
   "source": [
    "for epochs, conv_size in [[3,3],[2,2]]:\n",
    "    params = {'epochs': epochs, 'conv_size': conv_size}\n",
    "    run_model(params)\n"
   ]
  },
  {
   "cell_type": "code",
   "execution_count": null,
   "metadata": {},
   "outputs": [],
   "source": []
  }
 ]
}